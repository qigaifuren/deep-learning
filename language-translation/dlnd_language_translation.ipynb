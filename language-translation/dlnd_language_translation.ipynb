{
 "cells": [
  {
   "cell_type": "code",
   "execution_count": null,
   "metadata": {
    "collapsed": true,
    "deletable": true,
    "editable": true
   },
   "outputs": [],
   "source": [
    "import helper\n",
    "\n",
    "source_path = 'data/small_vocab_en'\n",
    "target_path = 'data/small_vocab_fr'\n",
    "source_text = helper.load_data(source_path)\n",
    "target_text = helper.load_data(target_path)"
   ]
  },
  {
   "cell_type": "code",
   "execution_count": 3,
   "metadata": {
    "collapsed": false,
    "deletable": true,
    "editable": true
   },
   "outputs": [
    {
     "name": "stdout",
     "output_type": "stream",
     "text": [
      "Dataset Stats\n",
      "Roughly the number of unique words: 227\n",
      "Number of sentences: 137861\n",
      "Average number of words in a sentence: 13.225277634719028\n",
      "\n",
      "English sentences 0 to 10:\n",
      "new jersey is sometimes quiet during autumn , and it is snowy in april .\n",
      "the united states is usually chilly during july , and it is usually freezing in november .\n",
      "california is usually quiet during march , and it is usually hot in june .\n",
      "the united states is sometimes mild during june , and it is cold in september .\n",
      "your least liked fruit is the grape , but my least liked is the apple .\n",
      "his favorite fruit is the orange , but my favorite is the grape .\n",
      "paris is relaxing during december , but it is usually chilly in july .\n",
      "new jersey is busy during spring , and it is never hot in march .\n",
      "our least liked fruit is the lemon , but my least liked is the grape .\n",
      "the united states is sometimes busy during january , and it is sometimes warm in november .\n",
      "\n",
      "French sentences 0 to 10:\n",
      "new jersey est parfois calme pendant l' automne , et il est neigeux en avril .\n",
      "les états-unis est généralement froid en juillet , et il gèle habituellement en novembre .\n",
      "california est généralement calme en mars , et il est généralement chaud en juin .\n",
      "les états-unis est parfois légère en juin , et il fait froid en septembre .\n",
      "votre moins aimé fruit est le raisin , mais mon moins aimé est la pomme .\n",
      "son fruit préféré est l'orange , mais mon préféré est le raisin .\n",
      "paris est relaxant en décembre , mais il est généralement froid en juillet .\n",
      "new jersey est occupé au printemps , et il est jamais chaude en mars .\n",
      "notre fruit est moins aimé le citron , mais mon moins aimé est le raisin .\n",
      "les états-unis est parfois occupé en janvier , et il est parfois chaud en novembre .\n"
     ]
    }
   ],
   "source": [
    "view_sentence_range = (0, 10)\n",
    "\n",
    "import numpy as np\n",
    "\n",
    "print('Dataset Stats')\n",
    "print('Roughly the number of unique words: {}'.format(len({word: None for word in source_text.split()})))\n",
    "\n",
    "sentences = source_text.split('\\n')\n",
    "word_counts = [len(sentence.split()) for sentence in sentences]\n",
    "print('Number of sentences: {}'.format(len(sentences)))\n",
    "print('Average number of words in a sentence: {}'.format(np.average(word_counts)))\n",
    "\n",
    "print()\n",
    "print('English sentences {} to {}:'.format(*view_sentence_range))\n",
    "print('\\n'.join(source_text.split('\\n')[view_sentence_range[0]:view_sentence_range[1]]))\n",
    "print()\n",
    "print('French sentences {} to {}:'.format(*view_sentence_range))\n",
    "print('\\n'.join(target_text.split('\\n')[view_sentence_range[0]:view_sentence_range[1]]))"
   ]
  },
  {
   "cell_type": "code",
   "execution_count": 2,
   "metadata": {
    "collapsed": false,
    "deletable": true,
    "editable": true
   },
   "outputs": [],
   "source": [
    "def text_to_ids(source_text, target_text, source_vocab_to_int, target_vocab_to_int):\n",
    "   \n",
    "    source_id_text = []\n",
    "    target_id_text = []\n",
    "    for text in source_text.split('\\n'):\n",
    "        t = []\n",
    "        for word in text.split():\n",
    "            t.append(source_vocab_to_int[word])\n",
    "        source_id_text.append(t)\n",
    "    for text in target_text.split('\\n'):\n",
    "        t = []\n",
    "        for word in text.split():\n",
    "            t.append(target_vocab_to_int[word])\n",
    "        t.append(target_vocab_to_int['<EOS>'])\n",
    "        target_id_text.append(t)\n",
    "    return source_id_text, target_id_text"
   ]
  },
  {
   "cell_type": "code",
   "execution_count": 6,
   "metadata": {
    "collapsed": false,
    "deletable": true,
    "editable": true
   },
   "outputs": [],
   "source": [
    "helper.preprocess_and_save_data(source_path, target_path, text_to_ids)"
   ]
  },
  {
   "cell_type": "code",
   "execution_count": 7,
   "metadata": {
    "collapsed": false,
    "deletable": true,
    "editable": true
   },
   "outputs": [],
   "source": [
    "\n",
    "import numpy as np\n",
    "import helper\n",
    "\n",
    "(source_int_text, target_int_text), (source_vocab_to_int, target_vocab_to_int), _ = helper.load_preprocess()"
   ]
  },
  {
   "cell_type": "code",
   "execution_count": 3,
   "metadata": {
    "collapsed": false,
    "deletable": true,
    "editable": true
   },
   "outputs": [],
   "source": [
    "from distutils.version import LooseVersion\n",
    "import warnings\n",
    "import tensorflow as tf"
   ]
  },
  {
   "cell_type": "code",
   "execution_count": 4,
   "metadata": {
    "collapsed": false,
    "deletable": true,
    "editable": true
   },
   "outputs": [],
   "source": [
    "def model_inputs():\n",
    "    inputs = tf.placeholder(tf.int32,[None,None],name='input')\n",
    "    targets = tf.placeholder(tf.int32,[None,None])\n",
    "    learning_rate = tf.placeholder(tf.float32)\n",
    "    keep_prob = tf.placeholder(tf.float32,name='keep_prob')\n",
    "    return inputs, targets, learning_rate, keep_prob"
   ]
  },
  {
   "cell_type": "code",
   "execution_count": 5,
   "metadata": {
    "collapsed": false,
    "deletable": true,
    "editable": true
   },
   "outputs": [],
   "source": [
    "def process_decoding_input(target_data, target_vocab_to_int, batch_size):\n",
    "    x = tf.strided_slice(target_data, [0,0], [batch_size, -1], [1,1])\n",
    "    y = tf.concat([tf.fill([batch_size, 1], target_vocab_to_int['<GO>']), x], 1)\n",
    "       \n",
    "    return y"
   ]
  },
  {
   "cell_type": "code",
   "execution_count": 7,
   "metadata": {
    "collapsed": false,
    "deletable": true,
    "editable": true
   },
   "outputs": [],
   "source": [
    "def encoding_layer(rnn_inputs, rnn_size, num_layers, keep_prob):\n",
    "    lstm = tf.contrib.rnn.BasicLSTMCell(rnn_size)\n",
    "    drop = tf.contrib.rnn.DropoutWrapper(lstm,output_keep_prob=keep_prob)\n",
    "    cell = tf.contrib.rnn.MultiRNNCell([drop]*num_layers)\n",
    "    _, encoder_state = tf.nn.dynamic_rnn(cell,rnn_inputs,dtype=tf.float32)\n",
    "    return encoder_state"
   ]
  },
  {
   "cell_type": "code",
   "execution_count": 8,
   "metadata": {
    "collapsed": false,
    "deletable": true,
    "editable": true
   },
   "outputs": [],
   "source": [
    "def decoding_layer_train(encoder_state, dec_cell, dec_embed_input, sequence_length, decoding_scope,\n",
    "                         output_fn, keep_prob):\n",
    "    decoder_fn_train = tf.contrib.seq2seq.simple_decoder_fn_train(encoder_state)\n",
    "    output,_,_ = tf.contrib.seq2seq.dynamic_rnn_decoder(dec_cell,\n",
    "                    decoder_fn_train,\n",
    "                    dec_embed_input,\n",
    "                    sequence_length,\n",
    "                    scope=decoding_scope,\n",
    "                )\n",
    "    logits = output_fn(output)\n",
    "    logits = tf.nn.dropout(logits,keep_prob)\n",
    "    return logits"
   ]
  },
  {
   "cell_type": "code",
   "execution_count": 9,
   "metadata": {
    "collapsed": false,
    "deletable": true,
    "editable": true
   },
   "outputs": [],
   "source": [
    "def decoding_layer_infer(encoder_state, dec_cell, dec_embeddings, start_of_sequence_id, end_of_sequence_id,\n",
    "                         maximum_length, vocab_size, decoding_scope, output_fn, keep_prob):\n",
    "   \n",
    "\n",
    "    dynamic_fn_inference = tf.contrib.seq2seq.simple_decoder_fn_inference(output_fn, \n",
    "                                                                          encoder_state,\n",
    "                                                                          dec_embeddings,\n",
    "                                                                          start_of_sequence_id,\n",
    "                                                                         end_of_sequence_id,\n",
    "                                                                          maximum_length-1,\n",
    "                                                                         vocab_size)\n",
    "    outputs_inference,_,_ = tf.contrib.seq2seq.dynamic_rnn_decoder(dec_cell,dynamic_fn_inference,\n",
    "                                                                           scope=decoding_scope)\n",
    "\n",
    "#     logits = tf.nn.dropout(outputs_inference,keep_prob=keep_prob)\n",
    "\n",
    "    return outputs_inference\n",
    "\n"
   ]
  },
  {
   "cell_type": "code",
   "execution_count": 10,
   "metadata": {
    "collapsed": false,
    "deletable": true,
    "editable": true
   },
   "outputs": [],
   "source": [
    "def decoding_layer(dec_embed_input, dec_embeddings, encoder_state, vocab_size, sequence_length, rnn_size,\n",
    "                   num_layers, target_vocab_to_int, keep_prob):\n",
    "    \n",
    "    start_of_sequence_id = target_vocab_to_int['<GO>']\n",
    "    end_of_sequence_id = target_vocab_to_int['<EOS>']\n",
    "    \n",
    "    cell = tf.contrib.rnn.BasicLSTMCell(rnn_size)\n",
    "    drop = tf.contrib.rnn.DropoutWrapper(cell, output_keep_prob=keep_prob)\n",
    "    dec_cell = tf.contrib.rnn.MultiRNNCell([drop]*num_layers)\n",
    "    \n",
    "    with tf.variable_scope('decoding') as decoding_scope:\n",
    "        output_fn = lambda x: tf.contrib.layers.fully_connected(x,\n",
    "                                                               vocab_size,\n",
    "                                                               None,\n",
    "                                                               scope=decoding_scope)\n",
    "    with tf.variable_scope('decoding') as decoding_scope:\n",
    "        training_logits = decoding_layer_train(encoder_state,\n",
    "                                              dec_cell,\n",
    "                                              dec_embed_input,\n",
    "                                              sequence_length,\n",
    "                                              decoding_scope,\n",
    "                                              output_fn,\n",
    "                                              keep_prob)\n",
    "    with tf.variable_scope('decoding', reuse=True) as decoding_scope:\n",
    "        inference_logits = decoding_layer_infer(encoder_state,\n",
    "                                               dec_cell,\n",
    "                                               dec_embeddings,\n",
    "                                               start_of_sequence_id,\n",
    "                                               end_of_sequence_id,\n",
    "                                               sequence_length,\n",
    "                                               vocab_size,\n",
    "                                               decoding_scope,\n",
    "                                               output_fn,\n",
    "                                               keep_prob)\n",
    "    \n",
    "    return (training_logits, inference_logits)\n",
    "\n"
   ]
  },
  {
   "cell_type": "code",
   "execution_count": 11,
   "metadata": {
    "collapsed": false,
    "deletable": true,
    "editable": true
   },
   "outputs": [],
   "source": [
    "def seq2seq_model(input_data, target_data, keep_prob, batch_size, sequence_length, source_vocab_size, target_vocab_size,\n",
    "                  enc_embedding_size, dec_embedding_size, rnn_size, num_layers, target_vocab_to_int):\n",
    "   \n",
    "    enc_embeddings = tf.Variable(tf.truncated_normal([source_vocab_size,enc_embedding_size],stddev=0.1))\n",
    "    dec_embeddings = tf.Variable(tf.truncated_normal([target_vocab_size,dec_embedding_size],stddev=0.1))\n",
    "#     rnn_inputs = tf.contrib.layers.embed_sequence(input_data, source_vocab_size, enc_embedding_size)\n",
    "    rnn_inputs = tf.nn.embedding_lookup(enc_embeddings,input_data)\n",
    "    \n",
    "    dec_input = process_decoding_input(target_data,target_vocab_to_int,batch_size)\n",
    "    dec_embed_input = tf.nn.embedding_lookup(dec_embeddings,dec_input)\n",
    "    \n",
    "    encoder_state = encoding_layer(rnn_inputs,rnn_size,num_layers,keep_prob)\n",
    "    \n",
    "    training_logits, inference_logits = decoding_layer(dec_embed_input,dec_embeddings,encoder_state,target_vocab_size,sequence_length\n",
    "                                                      ,rnn_size,num_layers,target_vocab_to_int,keep_prob)\n",
    "    \n",
    "    return (training_logits, inference_logits)\n"
   ]
  },
  {
   "cell_type": "code",
   "execution_count": 21,
   "metadata": {
    "collapsed": true,
    "deletable": true,
    "editable": true
   },
   "outputs": [],
   "source": [
    "# Number of Epochs\n",
    "epochs = 8\n",
    "# Batch Size\n",
    "batch_size = 275\n",
    "# RNN Size\n",
    "rnn_size = 256\n",
    "# Number of Layers\n",
    "num_layers = 2\n",
    "# Embedding Size\n",
    "encoding_embedding_size = 256\n",
    "decoding_embedding_size = 256\n",
    "# Learning Rate\n",
    "learning_rate = 0.005\n",
    "# Dropout Keep Probability\n",
    "keep_probability = 0.9"
   ]
  },
  {
   "cell_type": "code",
   "execution_count": 22,
   "metadata": {
    "collapsed": false,
    "deletable": true,
    "editable": true
   },
   "outputs": [],
   "source": [
    "save_path = 'checkpoints/dev'\n",
    "(source_int_text, target_int_text), (source_vocab_to_int, target_vocab_to_int), _ = helper.load_preprocess()\n",
    "max_source_sentence_length = max([len(sentence) for sentence in source_int_text])\n",
    "\n",
    "train_graph = tf.Graph()\n",
    "with train_graph.as_default():\n",
    "    input_data, targets, lr, keep_prob = model_inputs()\n",
    "    sequence_length = tf.placeholder_with_default(max_source_sentence_length, None, name='sequence_length')\n",
    "    input_shape = tf.shape(input_data)\n",
    "    \n",
    "    train_logits, inference_logits = seq2seq_model(\n",
    "        tf.reverse(input_data, [-1]), targets, keep_prob, batch_size, sequence_length, len(source_vocab_to_int), len(target_vocab_to_int),\n",
    "        encoding_embedding_size, decoding_embedding_size, rnn_size, num_layers, target_vocab_to_int)\n",
    "\n",
    "    tf.identity(inference_logits, 'logits')\n",
    "    with tf.name_scope(\"optimization\"):\n",
    "        # Loss function\n",
    "        cost = tf.contrib.seq2seq.sequence_loss(\n",
    "            train_logits,\n",
    "            targets,\n",
    "            tf.ones([input_shape[0], sequence_length]))\n",
    "\n",
    "        # Optimizer\n",
    "        optimizer = tf.train.AdamOptimizer(lr)\n",
    "\n",
    "        # Gradient Clipping\n",
    "        gradients = optimizer.compute_gradients(cost)\n",
    "        capped_gradients = [(tf.clip_by_value(grad, -1., 1.), var) for grad, var in gradients if grad is not None]\n",
    "        train_op = optimizer.apply_gradients(capped_gradients)"
   ]
  },
  {
   "cell_type": "code",
   "execution_count": 23,
   "metadata": {
    "collapsed": false,
    "deletable": true,
    "editable": true,
    "scrolled": true
   },
   "outputs": [
    {
     "name": "stdout",
     "output_type": "stream",
     "text": [
      "Epoch   0 Batch    0/501 - Train Accuracy:  0.274, Validation Accuracy:  0.346, Loss:  5.878\n",
      "Epoch   0 Batch   50/501 - Train Accuracy:  0.413, Validation Accuracy:  0.466, Loss:  1.887\n",
      "Epoch   0 Batch  100/501 - Train Accuracy:  0.514, Validation Accuracy:  0.545, Loss:  1.204\n",
      "Epoch   0 Batch  150/501 - Train Accuracy:  0.614, Validation Accuracy:  0.602, Loss:  1.009\n",
      "Epoch   0 Batch  200/501 - Train Accuracy:  0.617, Validation Accuracy:  0.632, Loss:  0.951\n",
      "Epoch   0 Batch  250/501 - Train Accuracy:  0.689, Validation Accuracy:  0.691, Loss:  0.859\n",
      "Epoch   0 Batch  300/501 - Train Accuracy:  0.728, Validation Accuracy:  0.727, Loss:  0.784\n",
      "Epoch   0 Batch  350/501 - Train Accuracy:  0.775, Validation Accuracy:  0.755, Loss:  0.726\n",
      "Epoch   0 Batch  400/501 - Train Accuracy:  0.811, Validation Accuracy:  0.805, Loss:  0.647\n",
      "Epoch   0 Batch  450/501 - Train Accuracy:  0.828, Validation Accuracy:  0.847, Loss:  0.570\n",
      "Epoch   1 Batch    0/501 - Train Accuracy:  0.903, Validation Accuracy:  0.875, Loss:  0.500\n",
      "Epoch   1 Batch   50/501 - Train Accuracy:  0.908, Validation Accuracy:  0.892, Loss:  0.477\n",
      "Epoch   1 Batch  100/501 - Train Accuracy:  0.906, Validation Accuracy:  0.912, Loss:  0.461\n",
      "Epoch   1 Batch  150/501 - Train Accuracy:  0.904, Validation Accuracy:  0.898, Loss:  0.451\n",
      "Epoch   1 Batch  200/501 - Train Accuracy:  0.935, Validation Accuracy:  0.907, Loss:  0.429\n",
      "Epoch   1 Batch  250/501 - Train Accuracy:  0.929, Validation Accuracy:  0.918, Loss:  0.432\n",
      "Epoch   1 Batch  300/501 - Train Accuracy:  0.947, Validation Accuracy:  0.931, Loss:  0.422\n",
      "Epoch   1 Batch  350/501 - Train Accuracy:  0.935, Validation Accuracy:  0.942, Loss:  0.394\n",
      "Epoch   1 Batch  400/501 - Train Accuracy:  0.935, Validation Accuracy:  0.957, Loss:  0.403\n",
      "Epoch   1 Batch  450/501 - Train Accuracy:  0.922, Validation Accuracy:  0.946, Loss:  0.441\n",
      "Epoch   2 Batch    0/501 - Train Accuracy:  0.969, Validation Accuracy:  0.945, Loss:  0.382\n",
      "Epoch   2 Batch   50/501 - Train Accuracy:  0.957, Validation Accuracy:  0.951, Loss:  0.390\n",
      "Epoch   2 Batch  100/501 - Train Accuracy:  0.937, Validation Accuracy:  0.956, Loss:  0.371\n",
      "Epoch   2 Batch  150/501 - Train Accuracy:  0.950, Validation Accuracy:  0.953, Loss:  0.409\n",
      "Epoch   2 Batch  200/501 - Train Accuracy:  0.955, Validation Accuracy:  0.955, Loss:  0.395\n",
      "Epoch   2 Batch  250/501 - Train Accuracy:  0.949, Validation Accuracy:  0.961, Loss:  0.385\n",
      "Epoch   2 Batch  300/501 - Train Accuracy:  0.968, Validation Accuracy:  0.960, Loss:  0.420\n",
      "Epoch   2 Batch  350/501 - Train Accuracy:  0.959, Validation Accuracy:  0.956, Loss:  0.387\n",
      "Epoch   2 Batch  400/501 - Train Accuracy:  0.948, Validation Accuracy:  0.958, Loss:  0.392\n",
      "Epoch   2 Batch  450/501 - Train Accuracy:  0.936, Validation Accuracy:  0.959, Loss:  0.398\n",
      "Epoch   3 Batch    0/501 - Train Accuracy:  0.973, Validation Accuracy:  0.957, Loss:  0.392\n",
      "Epoch   3 Batch   50/501 - Train Accuracy:  0.962, Validation Accuracy:  0.950, Loss:  0.405\n",
      "Epoch   3 Batch  100/501 - Train Accuracy:  0.963, Validation Accuracy:  0.963, Loss:  0.410\n",
      "Epoch   3 Batch  150/501 - Train Accuracy:  0.952, Validation Accuracy:  0.954, Loss:  0.378\n",
      "Epoch   3 Batch  200/501 - Train Accuracy:  0.956, Validation Accuracy:  0.949, Loss:  0.390\n",
      "Epoch   3 Batch  250/501 - Train Accuracy:  0.958, Validation Accuracy:  0.962, Loss:  0.375\n",
      "Epoch   3 Batch  300/501 - Train Accuracy:  0.979, Validation Accuracy:  0.951, Loss:  0.387\n",
      "Epoch   3 Batch  350/501 - Train Accuracy:  0.959, Validation Accuracy:  0.946, Loss:  0.413\n",
      "Epoch   3 Batch  400/501 - Train Accuracy:  0.959, Validation Accuracy:  0.962, Loss:  0.397\n",
      "Epoch   3 Batch  450/501 - Train Accuracy:  0.949, Validation Accuracy:  0.956, Loss:  0.392\n",
      "Epoch   4 Batch    0/501 - Train Accuracy:  0.973, Validation Accuracy:  0.955, Loss:  0.394\n",
      "Epoch   4 Batch   50/501 - Train Accuracy:  0.969, Validation Accuracy:  0.956, Loss:  0.370\n",
      "Epoch   4 Batch  100/501 - Train Accuracy:  0.973, Validation Accuracy:  0.957, Loss:  0.365\n",
      "Epoch   4 Batch  150/501 - Train Accuracy:  0.965, Validation Accuracy:  0.962, Loss:  0.396\n",
      "Epoch   4 Batch  200/501 - Train Accuracy:  0.966, Validation Accuracy:  0.963, Loss:  0.371\n",
      "Epoch   4 Batch  250/501 - Train Accuracy:  0.967, Validation Accuracy:  0.970, Loss:  0.393\n",
      "Epoch   4 Batch  300/501 - Train Accuracy:  0.976, Validation Accuracy:  0.965, Loss:  0.383\n",
      "Epoch   4 Batch  350/501 - Train Accuracy:  0.965, Validation Accuracy:  0.955, Loss:  0.401\n",
      "Epoch   4 Batch  400/501 - Train Accuracy:  0.964, Validation Accuracy:  0.962, Loss:  0.365\n",
      "Epoch   4 Batch  450/501 - Train Accuracy:  0.944, Validation Accuracy:  0.963, Loss:  0.402\n",
      "Epoch   5 Batch    0/501 - Train Accuracy:  0.971, Validation Accuracy:  0.953, Loss:  0.381\n",
      "Epoch   5 Batch   50/501 - Train Accuracy:  0.967, Validation Accuracy:  0.957, Loss:  0.352\n",
      "Epoch   5 Batch  100/501 - Train Accuracy:  0.978, Validation Accuracy:  0.965, Loss:  0.399\n",
      "Epoch   5 Batch  150/501 - Train Accuracy:  0.971, Validation Accuracy:  0.955, Loss:  0.360\n",
      "Epoch   5 Batch  200/501 - Train Accuracy:  0.967, Validation Accuracy:  0.961, Loss:  0.371\n",
      "Epoch   5 Batch  250/501 - Train Accuracy:  0.962, Validation Accuracy:  0.961, Loss:  0.375\n",
      "Epoch   5 Batch  300/501 - Train Accuracy:  0.976, Validation Accuracy:  0.964, Loss:  0.367\n",
      "Epoch   5 Batch  350/501 - Train Accuracy:  0.967, Validation Accuracy:  0.951, Loss:  0.375\n",
      "Epoch   5 Batch  400/501 - Train Accuracy:  0.964, Validation Accuracy:  0.962, Loss:  0.377\n",
      "Epoch   5 Batch  450/501 - Train Accuracy:  0.965, Validation Accuracy:  0.958, Loss:  0.379\n",
      "Epoch   6 Batch    0/501 - Train Accuracy:  0.975, Validation Accuracy:  0.950, Loss:  0.370\n",
      "Epoch   6 Batch   50/501 - Train Accuracy:  0.977, Validation Accuracy:  0.969, Loss:  0.374\n",
      "Epoch   6 Batch  100/501 - Train Accuracy:  0.975, Validation Accuracy:  0.966, Loss:  0.382\n",
      "Epoch   6 Batch  150/501 - Train Accuracy:  0.970, Validation Accuracy:  0.960, Loss:  0.387\n",
      "Epoch   6 Batch  200/501 - Train Accuracy:  0.976, Validation Accuracy:  0.957, Loss:  0.382\n",
      "Epoch   6 Batch  250/501 - Train Accuracy:  0.965, Validation Accuracy:  0.951, Loss:  0.374\n",
      "Epoch   6 Batch  300/501 - Train Accuracy:  0.975, Validation Accuracy:  0.962, Loss:  0.365\n",
      "Epoch   6 Batch  350/501 - Train Accuracy:  0.973, Validation Accuracy:  0.948, Loss:  0.380\n",
      "Epoch   6 Batch  400/501 - Train Accuracy:  0.972, Validation Accuracy:  0.962, Loss:  0.411\n",
      "Epoch   6 Batch  450/501 - Train Accuracy:  0.957, Validation Accuracy:  0.957, Loss:  0.400\n",
      "Epoch   7 Batch    0/501 - Train Accuracy:  0.977, Validation Accuracy:  0.961, Loss:  0.369\n",
      "Epoch   7 Batch   50/501 - Train Accuracy:  0.971, Validation Accuracy:  0.955, Loss:  0.379\n",
      "Epoch   7 Batch  100/501 - Train Accuracy:  0.976, Validation Accuracy:  0.959, Loss:  0.360\n",
      "Epoch   7 Batch  150/501 - Train Accuracy:  0.974, Validation Accuracy:  0.964, Loss:  0.395\n",
      "Epoch   7 Batch  200/501 - Train Accuracy:  0.972, Validation Accuracy:  0.960, Loss:  0.353\n",
      "Epoch   7 Batch  250/501 - Train Accuracy:  0.974, Validation Accuracy:  0.964, Loss:  0.379\n",
      "Epoch   7 Batch  300/501 - Train Accuracy:  0.981, Validation Accuracy:  0.962, Loss:  0.381\n",
      "Epoch   7 Batch  350/501 - Train Accuracy:  0.962, Validation Accuracy:  0.956, Loss:  0.377\n",
      "Epoch   7 Batch  400/501 - Train Accuracy:  0.962, Validation Accuracy:  0.962, Loss:  0.417\n",
      "Epoch   7 Batch  450/501 - Train Accuracy:  0.960, Validation Accuracy:  0.961, Loss:  0.382\n",
      "Model Trained and Saved\n"
     ]
    }
   ],
   "source": [
    "\n",
    "import time\n",
    "\n",
    "def get_accuracy(target, logits):\n",
    "\n",
    "    max_seq = max(target.shape[1], logits.shape[1])\n",
    "    if max_seq - target.shape[1]:\n",
    "        target = np.pad(\n",
    "            target,\n",
    "            [(0,0),(0,max_seq - target.shape[1])],\n",
    "            'constant')\n",
    "    if max_seq - logits.shape[1]:\n",
    "        logits = np.pad(\n",
    "            logits,\n",
    "            [(0,0),(0,max_seq - logits.shape[1]), (0,0)],\n",
    "            'constant')\n",
    "\n",
    "    return np.mean(np.equal(target, np.argmax(logits, 2)))\n",
    "\n",
    "train_source = source_int_text[batch_size:]\n",
    "train_target = target_int_text[batch_size:]\n",
    "\n",
    "valid_source = helper.pad_sentence_batch(source_int_text[:batch_size])\n",
    "valid_target = helper.pad_sentence_batch(target_int_text[:batch_size])\n",
    "\n",
    "with tf.Session(graph=train_graph) as sess:\n",
    "    sess.run(tf.global_variables_initializer())\n",
    "\n",
    "    for epoch_i in range(epochs):\n",
    "        for batch_i, (source_batch, target_batch) in enumerate(\n",
    "                helper.batch_data(train_source, train_target, batch_size)):\n",
    "            start_time = time.time()\n",
    "            \n",
    "            _, loss = sess.run(\n",
    "                [train_op, cost],\n",
    "                {input_data: source_batch,\n",
    "                 targets: target_batch,\n",
    "                 lr: learning_rate,\n",
    "                 sequence_length: target_batch.shape[1],\n",
    "                 keep_prob: keep_probability})\n",
    "            \n",
    "            batch_train_logits = sess.run(\n",
    "                inference_logits,\n",
    "                {input_data: source_batch, keep_prob: 1.0})\n",
    "            batch_valid_logits = sess.run(\n",
    "                inference_logits,\n",
    "                {input_data: valid_source, keep_prob: 1.0})\n",
    "                \n",
    "            train_acc = get_accuracy(target_batch, batch_train_logits)\n",
    "            valid_acc = get_accuracy(np.array(valid_target), batch_valid_logits)\n",
    "            end_time = time.time()\n",
    "            if batch_i % 50 == 0:\n",
    "                print('Epoch {:>3} Batch {:>4}/{} - Train Accuracy: {:>6.3f}, Validation Accuracy: {:>6.3f}, Loss: {:>6.3f}'\n",
    "                  .format(epoch_i, batch_i, len(source_int_text) // batch_size, train_acc, valid_acc, loss))\n",
    "\n",
    "    # Save Model\n",
    "    saver = tf.train.Saver()\n",
    "    saver.save(sess, save_path)\n",
    "    print('Model Trained and Saved')"
   ]
  },
  {
   "cell_type": "code",
   "execution_count": 24,
   "metadata": {
    "collapsed": false,
    "deletable": true,
    "editable": true
   },
   "outputs": [],
   "source": [
    "helper.save_params(save_path)"
   ]
  },
  {
   "cell_type": "code",
   "execution_count": 25,
   "metadata": {
    "collapsed": false,
    "deletable": true,
    "editable": true
   },
   "outputs": [],
   "source": [
    "import tensorflow as tf\n",
    "import numpy as np\n",
    "import helper\n",
    "_, (source_vocab_to_int, target_vocab_to_int), (source_int_to_vocab, target_int_to_vocab) = helper.load_preprocess()\n",
    "load_path = helper.load_params()"
   ]
  },
  {
   "cell_type": "code",
   "execution_count": 26,
   "metadata": {
    "collapsed": false,
    "deletable": true,
    "editable": true
   },
   "outputs": [
    {
     "name": "stdout",
     "output_type": "stream",
     "text": [
      "Tests Passed\n"
     ]
    }
   ],
   "source": [
    "def sentence_to_seq(sentence, vocab_to_int):\n",
    "    sentence = sentence.lower()\n",
    "    seq = []\n",
    "    for word in sentence.split():\n",
    "        if word not in vocab_to_int.keys():\n",
    "            seq.append(vocab_to_int['<UNK>'])\n",
    "        else:\n",
    "            seq.append(vocab_to_int[word])\n",
    "    return seq"
   ]
  },
  {
   "cell_type": "code",
   "execution_count": 27,
   "metadata": {
    "collapsed": false,
    "deletable": true,
    "editable": true
   },
   "outputs": [
    {
     "name": "stdout",
     "output_type": "stream",
     "text": [
      "Input\n",
      "  Word Ids:      [105, 94, 133, 32, 163, 80, 45]\n",
      "  English Words: ['he', 'saw', 'a', 'old', 'yellow', 'truck', '.']\n",
      "\n",
      "Prediction\n",
      "  Word Ids:      [254, 135, 92, 158, 116, 94, 124, 267, 1]\n",
      "  French Words: ['il', 'a', 'vu', 'un', 'vieux', 'camion', 'jaune', '.', '<EOS>']\n"
     ]
    }
   ],
   "source": [
    "translate_sentence = 'he saw a old yellow truck .'\n",
    "\n",
    "\n",
    "translate_sentence = sentence_to_seq(translate_sentence, source_vocab_to_int)\n",
    "\n",
    "loaded_graph = tf.Graph()\n",
    "with tf.Session(graph=loaded_graph) as sess:\n",
    "    # Load saved model\n",
    "    loader = tf.train.import_meta_graph(load_path + '.meta')\n",
    "    loader.restore(sess, load_path)\n",
    "\n",
    "    input_data = loaded_graph.get_tensor_by_name('input:0')\n",
    "    logits = loaded_graph.get_tensor_by_name('logits:0')\n",
    "    keep_prob = loaded_graph.get_tensor_by_name('keep_prob:0')\n",
    "\n",
    "    translate_logits = sess.run(logits, {input_data: [translate_sentence], keep_prob: 1.0})[0]\n",
    "\n",
    "print('Input')\n",
    "print('  Word Ids:      {}'.format([i for i in translate_sentence]))\n",
    "print('  English Words: {}'.format([source_int_to_vocab[i] for i in translate_sentence]))\n",
    "\n",
    "print('\\nPrediction')\n",
    "print('  Word Ids:      {}'.format([i for i in np.argmax(translate_logits, 1)]))\n",
    "print('  French Words: {}'.format([target_int_to_vocab[i] for i in np.argmax(translate_logits, 1)]))"
   ]
  }
 ],
 "metadata": {
  "kernelspec": {
   "display_name": "Python 3",
   "language": "python",
   "name": "python3"
  },
  "language_info": {
   "codemirror_mode": {
    "name": "ipython",
    "version": 3
   },
   "file_extension": ".py",
   "mimetype": "text/x-python",
   "name": "python",
   "nbconvert_exporter": "python",
   "pygments_lexer": "ipython3",
   "version": "3.6.0"
  }
 },
 "nbformat": 4,
 "nbformat_minor": 0
}
